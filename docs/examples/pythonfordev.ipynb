{
 "cells": [
  {
   "cell_type": "code",
   "execution_count": 1,
   "metadata": {},
   "outputs": [
    {
     "name": "stderr",
     "output_type": "stream",
     "text": [
      "test_init (__main__.TestVehicle) ... "
     ]
    },
    {
     "name": "stdout",
     "output_type": "stream",
     "text": [
      "Привет, меня зовут Петр\n",
      "Я lada granta, в меня сел Петр!\n",
      "Я lada granta, я еду!\n",
      "Я АВТОМОБИЛЬ lada granta, я торможу БЫСТРО!\n",
      "Я lada granta, из меня вышел Петр!\n",
      "Я Газель, в меня сел Петр!\n",
      "Я Газель, я еду!\n",
      "Я ГРУЗОВИК Газель, я торможу МЕДЛЕННО!\n",
      "Я Газель, из меня вышел Петр!\n"
     ]
    },
    {
     "name": "stderr",
     "output_type": "stream",
     "text": [
      "ok\n",
      "\n",
      "----------------------------------------------------------------------\n",
      "Ran 1 test in 0.001s\n",
      "\n",
      "OK\n"
     ]
    },
    {
     "data": {
      "text/plain": [
       "<unittest.main.TestProgram at 0x7fed0062e4e0>"
      ]
     },
     "execution_count": 1,
     "metadata": {},
     "output_type": "execute_result"
    }
   ],
   "source": [
    "import unittest\n",
    "\n",
    "\n",
    "class Person:\n",
    "  def __init__(self, name, age):\n",
    "    self.name = name\n",
    "    self.age = age\n",
    "\n",
    "  def sayhello(self):\n",
    "    return \"Привет, меня зовут \" + self.name\n",
    "\n",
    "\n",
    "\n",
    "\n",
    "class Vehicle:\n",
    "    \"\"\"\n",
    "    Транспортное средство\n",
    "    \"\"\"\n",
    " \n",
    "    def __init__(self, model, color):\n",
    "        \"\"\"Конструктор\"\"\"\n",
    "        self.model = model\n",
    "        self.color = color\n",
    "    \n",
    "    def brake(self):\n",
    "        \"\"\"\n",
    "        Тормозить\n",
    "        \"\"\"\n",
    "        return \"Я \" + self.model + \", я торможу!\"\n",
    "    \n",
    "    def drive(self):\n",
    "        \"\"\"\n",
    "        Ехать\n",
    "        \"\"\"\n",
    "        return \"Я \" + self.model + \", я еду!\"\n",
    "    \n",
    "    def getin(self, person):\n",
    "        \"\"\"\n",
    "        Сесть в машину\n",
    "        \"\"\"\n",
    "        self.person = person\n",
    "        return \"Я \" + self.model + \", в меня сел \" + person.name + \"!\"\n",
    "\n",
    "    def getout(self):\n",
    "        \"\"\"\n",
    "        Выйти из машины\n",
    "        \"\"\"\n",
    "        p = self.person\n",
    "        self.person = None\n",
    "        return \"Я \" + self.model + \", из меня вышел \" + p.name + \"!\"\n",
    "    \n",
    "class Car(Vehicle):\n",
    "    \"\"\"\n",
    "    Автомобиль\n",
    "    \"\"\"\n",
    " \n",
    "    #----------------------------------------------------------------------\n",
    "    def brake(self):\n",
    "        \"\"\"\n",
    "        переопределение метода \"тормозить\"\n",
    "        \"\"\"\n",
    "        return \"Я АВТОМОБИЛЬ \" + self.model + \", я торможу БЫСТРО!\"\n",
    "    \n",
    "class Truck(Vehicle):\n",
    "    \"\"\"\n",
    "    Грузовик\n",
    "    \"\"\"\n",
    " \n",
    "    #----------------------------------------------------------------------\n",
    "    def brake(self):\n",
    "        \"\"\"\n",
    "        переопределение метода \"тормозить\"\n",
    "        \"\"\"\n",
    "        return \"Я ГРУЗОВИК \" + self.model + \", я торможу МЕДЛЕННО!\"    \n",
    "    \n",
    "p1 = Person(\"Петр\", 36)\n",
    "print(p1.sayhello() )\n",
    "    \n",
    "c1 =  Car(\"lada granta\",\"зеленый\")\n",
    "\n",
    "print(c1.getin(p1))\n",
    "print(c1.drive())\n",
    "print(c1.brake())\n",
    "print(c1.getout())\n",
    "\n",
    "\n",
    "t1 =  Truck(\"Газель\",\"серый\")\n",
    "\n",
    "print(t1.getin(p1))\n",
    "print(t1.drive())\n",
    "print(t1.brake())\n",
    "print(t1.getout())\n",
    "\n",
    "\n",
    "class TestVehicle(unittest.TestCase):\n",
    " \n",
    "    def test_init(self):\n",
    "        c1 =  Car(\"lada granta\",\"зеленый\")\n",
    "        self.assertEqual(c1.color, \"зеленый\")\n",
    "        \n",
    "unittest.main(argv=[''], verbosity=2, exit=False)\n",
    "\n",
    "\n"
   ]
  },
  {
   "cell_type": "code",
   "execution_count": null,
   "metadata": {},
   "outputs": [],
   "source": []
  },
  {
   "cell_type": "code",
   "execution_count": null,
   "metadata": {},
   "outputs": [],
   "source": []
  }
 ],
 "metadata": {
  "kernelspec": {
   "display_name": "Python 3.6",
   "language": "python",
   "name": "python_3.6"
  },
  "language_info": {
   "codemirror_mode": {
    "name": "ipython",
    "version": 3
   },
   "file_extension": ".py",
   "mimetype": "text/x-python",
   "name": "python",
   "nbconvert_exporter": "python",
   "pygments_lexer": "ipython3",
   "version": "3.6.5"
  }
 },
 "nbformat": 4,
 "nbformat_minor": 2
}
